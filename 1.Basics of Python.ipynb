{
 "cells": [
  {
   "cell_type": "markdown",
   "id": "d4794962-8748-4558-ada5-f759289a3183",
   "metadata": {},
   "source": [
    "## Prime Numbers"
   ]
  },
  {
   "cell_type": "code",
   "execution_count": 2,
   "id": "48a141d5-0a37-4fb2-bdfa-bdbf473c16d8",
   "metadata": {},
   "outputs": [
    {
     "name": "stdin",
     "output_type": "stream",
     "text": [
      "Enter the number:  2\n"
     ]
    },
    {
     "name": "stdout",
     "output_type": "stream",
     "text": [
      "Is prime\n"
     ]
    }
   ],
   "source": [
    "n = int(input(\"Enter the number: \"))\n",
    "if n>1:\n",
    "    for i in range(2,(n//2)+1):  # Iterate from 2 to half of the n\n",
    "        if n%i==0:  # Check if n is divisible by any number in the range\n",
    "            print(\"Not Prime\")\n",
    "            break\n",
    "    else:\n",
    "        print(\"Is prime\")\n",
    "elif n==1:\n",
    "    print('Neither prime nor not prime')\n",
    "else:  # For negative numbers\n",
    "    print(\"Not prime\")"
   ]
  },
  {
   "cell_type": "markdown",
   "id": "ef9eb3d5-9bef-44b2-831c-7d49b59ce2f6",
   "metadata": {},
   "source": [
    "## Product of random number"
   ]
  },
  {
   "cell_type": "code",
   "execution_count": 15,
   "id": "32c8c032-d438-4f67-84b7-487467e55666",
   "metadata": {},
   "outputs": [
    {
     "name": "stdin",
     "output_type": "stream",
     "text": [
      "Enter the product of 14 & 42: 111\n"
     ]
    },
    {
     "name": "stdout",
     "output_type": "stream",
     "text": [
      "The answer is wrong\n"
     ]
    }
   ],
   "source": [
    "import numpy as np\n",
    "a=np.random.randint(1,100)  # Initialize a random number for a\n",
    "b=np.random.randint(1,100)  # Initialize a random number for b\n",
    "n=int(input(f\"Enter the product of {a} & {b}:\")) # Input product from user\n",
    "if n==(a*b): # Check if the answer is right or wrong\n",
    "    print(\"The answer is correct\")\n",
    "else:\n",
    "    print(\"The answer is wrong\")"
   ]
  },
  {
   "cell_type": "markdown",
   "id": "7fe23c41-0305-493d-b7de-d08070130b94",
   "metadata": {},
   "source": [
    "## Even and odd square"
   ]
  },
  {
   "cell_type": "code",
   "execution_count": 19,
   "id": "f8cf4fac-a467-4a5b-b3c4-e24bda90cee0",
   "metadata": {},
   "outputs": [
    {
     "name": "stdin",
     "output_type": "stream",
     "text": [
      "Enter O for Odd squares or Enter E for Even squares: q\n"
     ]
    },
    {
     "name": "stdout",
     "output_type": "stream",
     "text": [
      "Invalid input\n"
     ]
    }
   ],
   "source": [
    "even=[]  # Initialize an empty array for even\n",
    "odd=[]  # Initialize an empty array for odd\n",
    "n=input(\"Enter O for Odd squares or Enter E for Even squares:\")  # Ask the user odd or even\n",
    "for i in range(100,200):  # Initialize a for loop\n",
    "    if i%2==0:  # Increment even array for even numbers with its square\n",
    "        even.append(np.power(i,2))\n",
    "    else:  # Increment odd array for odd numbers with its square\n",
    "        odd.append(np.power(i,2))\n",
    "if n==\"O\" or n==\"o\":  # Print odd array\n",
    "    print(odd)\n",
    "elif n==\"E\" or n==\"e\":  # Print even array\n",
    "    print(even)\n",
    "    exit\n",
    "else:\n",
    "    print(\"Invalid input\")"
   ]
  },
  {
   "cell_type": "markdown",
   "id": "37f0870b-070c-433a-9da4-81e794caec18",
   "metadata": {},
   "source": [
    "## Word Counter"
   ]
  },
  {
   "cell_type": "code",
   "execution_count": 21,
   "id": "da0465b6-6d7a-4524-9add-0f371270fe52",
   "metadata": {},
   "outputs": [
    {
     "name": "stdin",
     "output_type": "stream",
     "text": [
      "Enter the string: hello hello\n"
     ]
    },
    {
     "name": "stdout",
     "output_type": "stream",
     "text": [
      "'hello': 2\n"
     ]
    }
   ],
   "source": [
    "input_text = input(\"Enter the string:\") # Input the string from the user\n",
    "words = input_text.split() # Split the string into each words\n",
    "word_count = {word: words.count(word) for word in words}  # Count the number of each words\n",
    "for word, count in word_count.items():\n",
    "    print(f\"'{word}': {count}\")"
   ]
  },
  {
   "cell_type": "markdown",
   "id": "e90f53d0-f684-4a52-857c-09c6fea41059",
   "metadata": {},
   "source": [
    "## Palindrome or not"
   ]
  },
  {
   "cell_type": "code",
   "execution_count": 4,
   "id": "389ceef4-9db1-44f0-a0e6-e77838e3ea15",
   "metadata": {},
   "outputs": [
    {
     "name": "stdin",
     "output_type": "stream",
     "text": [
      "Enter a string: 121\n"
     ]
    },
    {
     "name": "stdout",
     "output_type": "stream",
     "text": [
      "121\n",
      "121\n",
      "Palindrome\n"
     ]
    }
   ],
   "source": [
    "n=input(\"Enter a string:\")\n",
    "l=n.lower()  # Make all to lower case\n",
    "l=l.replace(' ', '')  # Cancel out all spaces\n",
    "w=l[::-1]  # Reverse the string\n",
    "if w==l:  # Check if it is palindrome or not\n",
    "    print(\"Palindrome\")\n",
    "else:\n",
    "    print(\"Not Palindrome\")"
   ]
  },
  {
   "cell_type": "code",
   "execution_count": null,
   "id": "7fe23e66-9a3a-43fd-a9d5-3c7c158cf8e3",
   "metadata": {},
   "outputs": [],
   "source": []
  }
 ],
 "metadata": {
  "kernelspec": {
   "display_name": "Python 3 (ipykernel)",
   "language": "python",
   "name": "python3"
  },
  "language_info": {
   "codemirror_mode": {
    "name": "ipython",
    "version": 3
   },
   "file_extension": ".py",
   "mimetype": "text/x-python",
   "name": "python",
   "nbconvert_exporter": "python",
   "pygments_lexer": "ipython3",
   "version": "3.11.7"
  }
 },
 "nbformat": 4,
 "nbformat_minor": 5
}

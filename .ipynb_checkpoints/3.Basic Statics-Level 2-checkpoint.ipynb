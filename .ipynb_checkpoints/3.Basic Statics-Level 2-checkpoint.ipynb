{
 "cells": [
  {
   "cell_type": "code",
   "execution_count": 36,
   "id": "9ab6406a-7b06-4d26-aea5-3569894b2c33",
   "metadata": {},
   "outputs": [],
   "source": [
    "import math\n",
    "import numpy as np\n",
    "import scipy.stats as stats"
   ]
  },
  {
   "cell_type": "markdown",
   "id": "9f8b6cf4-b0c4-420e-a6b2-054e0f836c66",
   "metadata": {},
   "source": [
    "## Estimation And Confidence Intervals\n",
    "A total of 15 print-heads were randomly selected and tested until failure. The durability of each print-head (in millions of characters) was recorded as follows:"
   ]
  },
  {
   "cell_type": "code",
   "execution_count": 38,
   "id": "4e387e8b-e6ca-42e0-bcb9-26d59eb1534f",
   "metadata": {},
   "outputs": [],
   "source": [
    "pop=[1.13,1.55,1.43,0.92,1.25,1.36,1.32,0.85,1.07,1.48,1.20,1.33,1.18,1.22,1.29]"
   ]
  },
  {
   "cell_type": "markdown",
   "id": "440aa689-3622-44ca-be50-59eeade50591",
   "metadata": {},
   "source": [
    "### a. Build 99% Confidence Interval Using Sample Standard Deviation"
   ]
  },
  {
   "cell_type": "code",
   "execution_count": 106,
   "id": "28ce1684-02b0-46a9-8da4-4f09858b1ca2",
   "metadata": {},
   "outputs": [],
   "source": [
    "C_level=0.99\n",
    "s_mean=np.mean(pop)\n",
    "n=15\n",
    "df=n-1\n",
    "s=np.std(pop)\n",
    "alpha=0.01"
   ]
  },
  {
   "cell_type": "code",
   "execution_count": 108,
   "id": "efdd917a-363a-4fa1-a5f0-2336e6432325",
   "metadata": {},
   "outputs": [],
   "source": [
    "t_crit=stats.t.ppf(1-alpha/2,df)\n",
    "moe=t_crit*(s/np.sqrt(n))\n",
    "CI=(s_mean-moe,s_mean+moe)"
   ]
  },
  {
   "cell_type": "code",
   "execution_count": 110,
   "id": "516c221e-c370-4f12-947a-5d37884e7e49",
   "metadata": {},
   "outputs": [
    {
     "data": {
      "text/plain": [
       "(1.0952316686385626, 1.3821016646947706)"
      ]
     },
     "execution_count": 110,
     "metadata": {},
     "output_type": "execute_result"
    }
   ],
   "source": [
    "CI"
   ]
  },
  {
   "cell_type": "markdown",
   "id": "b0710ff1-81a4-4a74-9069-bbc4e7e6eee1",
   "metadata": {},
   "source": [
    "### Explain the steps you take:\n",
    " - The confidence level is 99%, which means we are 99% confident that the mean lies between the interval\n",
    " - Find mean of the sample\n",
    " - Find the degree of freedom=n-1=14 (where n=15)\n",
    " - Find the standard deviation of sample(s)\n",
    " - Find alpha=1-C_level\n",
    " - Find t_critical(t_crit)\n",
    " - Find Margin of Error(moe=t_crit*(s/sqrt(n)))\n",
    " - Find Confidence Interval(CI=(s_mean-moe,s_mean+moe))\n",
    "\n",
    "### Rationale behind using the t-distribution for this task:\n",
    "The t-distribution is used instead of the normal distribution(z-test) because:\n",
    " - The population standard deviation is unknown\n",
    " - The sample size is small(n=15)"
   ]
  },
  {
   "cell_type": "markdown",
   "id": "13a2e5af-f2d6-4fdb-a826-3866a9b0a3cd",
   "metadata": {},
   "source": [
    "### b. Build 99% Confidence Interval Using Known Population Standard Deviation"
   ]
  },
  {
   "cell_type": "code",
   "execution_count": 98,
   "id": "0df5d542-e77d-4769-9bcf-e5339ee4526d",
   "metadata": {},
   "outputs": [],
   "source": [
    "pop_std_dev=0.2\n",
    "z_crit=stats.norm.ppf(1-alpha/2)\n",
    "moe_pop=z_crit*(pop_std_dev/np.sqrt(n))\n",
    "CI_pop=(pop_mean-moe_pop,pop_mean+moe_pop)"
   ]
  },
  {
   "cell_type": "code",
   "execution_count": 100,
   "id": "c5e4dfe2-b09e-435b-9fb9-98d49eea8708",
   "metadata": {},
   "outputs": [
    {
     "data": {
      "text/plain": [
       "(1.1056514133957607, 1.3716819199375725)"
      ]
     },
     "execution_count": 100,
     "metadata": {},
     "output_type": "execute_result"
    }
   ],
   "source": [
    "CI_pop"
   ]
  }
 ],
 "metadata": {
  "kernelspec": {
   "display_name": "Python 3 (ipykernel)",
   "language": "python",
   "name": "python3"
  },
  "language_info": {
   "codemirror_mode": {
    "name": "ipython",
    "version": 3
   },
   "file_extension": ".py",
   "mimetype": "text/x-python",
   "name": "python",
   "nbconvert_exporter": "python",
   "pygments_lexer": "ipython3",
   "version": "3.11.7"
  }
 },
 "nbformat": 4,
 "nbformat_minor": 5
}

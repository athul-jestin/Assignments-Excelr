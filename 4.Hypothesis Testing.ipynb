{
 "cells": [
  {
   "cell_type": "code",
   "execution_count": 36,
   "id": "ca6a8381-f7b3-4e4a-99c6-7948fef364c7",
   "metadata": {},
   "outputs": [],
   "source": [
    "import numpy as np\n",
    "import scipy.stats as stats\n",
    "import pandas as pd\n",
    "import math"
   ]
  },
  {
   "cell_type": "markdown",
   "id": "c590d57c-8189-4b58-98c5-bfa304ac1534",
   "metadata": {},
   "source": [
    "## CHI-SQUARE TEST"
   ]
  },
  {
   "cell_type": "markdown",
   "id": "6e2e5afd-6183-4563-9be8-06dd4915a229",
   "metadata": {},
   "source": [
    "#### Ho: There's no significant association between the type of smart home device purchased and the customer satisfaction level.\r\n",
    "#### Ha:Tthere's a significant association between the type of smart home device purchased and the customer satisfaction level"
   ]
  },
  {
   "cell_type": "code",
   "execution_count": 4,
   "id": "334decbd-4d03-440a-852a-e4d44669e12c",
   "metadata": {},
   "outputs": [
    {
     "data": {
      "text/plain": [
       "array([[ 50,  70],\n",
       "       [ 80, 100],\n",
       "       [ 60,  90],\n",
       "       [ 30,  50],\n",
       "       [ 20,  50]])"
      ]
     },
     "execution_count": 4,
     "metadata": {},
     "output_type": "execute_result"
    }
   ],
   "source": [
    "observed=np.array([[50,70],[80,100],[60,90],[30,50],[20,50]])\n",
    "observed"
   ]
  },
  {
   "cell_type": "code",
   "execution_count": 8,
   "id": "24767408-496f-41e2-abbe-5992ed22501e",
   "metadata": {},
   "outputs": [
    {
     "data": {
      "text/plain": [
       "Chi2ContingencyResult(statistic=5.638227513227513, pvalue=0.22784371130697179, dof=4, expected_freq=array([[ 48.,  72.],\n",
       "       [ 72., 108.],\n",
       "       [ 60.,  90.],\n",
       "       [ 32.,  48.],\n",
       "       [ 28.,  42.]]))"
      ]
     },
     "execution_count": 8,
     "metadata": {},
     "output_type": "execute_result"
    }
   ],
   "source": [
    "expected=stats.chi2_contingency(observed)\n",
    "expected"
   ]
  },
  {
   "cell_type": "code",
   "execution_count": 20,
   "id": "722fca93-c58f-4155-ad85-d0b9459545df",
   "metadata": {},
   "outputs": [],
   "source": [
    "# chi_statistic=5.638227513227513"
   ]
  },
  {
   "cell_type": "code",
   "execution_count": 22,
   "id": "9d21fb59-2c8c-4348-8a1c-f0a3551f3405",
   "metadata": {},
   "outputs": [
    {
     "data": {
      "text/plain": [
       "9.487729036781154"
      ]
     },
     "execution_count": 22,
     "metadata": {},
     "output_type": "execute_result"
    }
   ],
   "source": [
    "# alpha=0.05\n",
    "# dof=4\n",
    "# chi_critical=stats.chi2.ppf(alpha,dof)\n",
    "chi_critical=stats.chi2.ppf(0.95,4)\n",
    "chi_critical"
   ]
  },
  {
   "cell_type": "code",
   "execution_count": null,
   "id": "5df71b36-3800-462a-b209-3abdeb7d3fe7",
   "metadata": {},
   "outputs": [],
   "source": [
    "## chi_stats<chi_critical: Fail to reject Ho"
   ]
  },
  {
   "cell_type": "markdown",
   "id": "5d90dc3e-daa9-4b74-930e-8026c1a5ad72",
   "metadata": {},
   "source": [
    "## HYPOTHESIS TESTING"
   ]
  },
  {
   "cell_type": "markdown",
   "id": "876ec38f-1a8c-401f-9fb2-3ab29d9c66be",
   "metadata": {},
   "source": [
    "##### Objective: To investigate the restaurant owners' claim about the increase in weekly operating costs using hypothesis testing.\n"
   ]
  },
  {
   "cell_type": "code",
   "execution_count": null,
   "id": "369de0ae-f285-4216-b136-4a7bfb85b14a",
   "metadata": {},
   "outputs": [],
   "source": [
    "## Hypotheses statement\n",
    "## Ho --> Observed weekly operating costs are lesser.\n",
    "## Ha --> Observed weekly operating costs are higher."
   ]
  },
  {
   "cell_type": "code",
   "execution_count": 34,
   "id": "6b4d5d0d-23e4-4425-8824-40ab05e808d3",
   "metadata": {},
   "outputs": [],
   "source": [
    "## Since sample standard deviation is given we can use t-test for hypothesis testing\n",
    "x_bar=3050\n",
    "pop_mean=1000+5*600\n",
    "s_std_dev=5*25\n",
    "n=25\n",
    "alpha=0.05\n",
    "dof=n-1"
   ]
  },
  {
   "cell_type": "code",
   "execution_count": 42,
   "id": "61e359de-3830-43e3-b45d-8c8f33d69bbc",
   "metadata": {},
   "outputs": [
    {
     "data": {
      "text/plain": [
       "-38.0"
      ]
     },
     "execution_count": 42,
     "metadata": {},
     "output_type": "execute_result"
    }
   ],
   "source": [
    "t_stat=(x_bar-pop_mean)/(s_std_dev/math.sqrt(n))\n",
    "t_stat"
   ]
  },
  {
   "cell_type": "code",
   "execution_count": 48,
   "id": "a974f025-6e38-44ad-a294-d34ffba04573",
   "metadata": {},
   "outputs": [
    {
     "data": {
      "text/plain": [
       "1.959963984540054"
      ]
     },
     "execution_count": 48,
     "metadata": {},
     "output_type": "execute_result"
    }
   ],
   "source": [
    "z_crit=stats.norm.ppf(1-alpha/2)\n",
    "z_crit"
   ]
  },
  {
   "cell_type": "code",
   "execution_count": 50,
   "id": "5167042f-9f25-4f5a-a9b8-34351fb56e3d",
   "metadata": {},
   "outputs": [],
   "source": [
    "# Conclusion\n",
    "# t_stat<z_crit\n",
    "# So we fail to reject Ho\n",
    "# Observed weekly operating costs are lesser."
   ]
  },
  {
   "cell_type": "code",
   "execution_count": null,
   "id": "d648bc88-c2f3-4dbb-b0c4-4af04cb75696",
   "metadata": {},
   "outputs": [],
   "source": []
  }
 ],
 "metadata": {
  "kernelspec": {
   "display_name": "Python 3 (ipykernel)",
   "language": "python",
   "name": "python3"
  },
  "language_info": {
   "codemirror_mode": {
    "name": "ipython",
    "version": 3
   },
   "file_extension": ".py",
   "mimetype": "text/x-python",
   "name": "python",
   "nbconvert_exporter": "python",
   "pygments_lexer": "ipython3",
   "version": "3.11.7"
  }
 },
 "nbformat": 4,
 "nbformat_minor": 5
}
